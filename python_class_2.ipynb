{
  "nbformat": 4,
  "nbformat_minor": 0,
  "metadata": {
    "colab": {
      "provenance": [],
      "collapsed_sections": [],
      "authorship_tag": "ABX9TyPqNzxqYTb0dnAEFo/W2bW2",
      "include_colab_link": true
    },
    "kernelspec": {
      "name": "python3",
      "display_name": "Python 3"
    },
    "language_info": {
      "name": "python"
    }
  },
  "cells": [
    {
      "cell_type": "markdown",
      "metadata": {
        "id": "view-in-github",
        "colab_type": "text"
      },
      "source": [
        "<a href=\"https://colab.research.google.com/github/Edreth/prova/blob/main/python_class_2.ipynb\" target=\"_parent\"><img src=\"https://colab.research.google.com/assets/colab-badge.svg\" alt=\"Open In Colab\"/></a>"
      ]
    },
    {
      "cell_type": "code",
      "execution_count": null,
      "metadata": {
        "id": "iRBbbiJe8rre",
        "colab": {
          "base_uri": "https://localhost:8080/"
        },
        "outputId": "fd2cfee1-2b19-46ac-e63f-9c65b0222b18"
      },
      "outputs": [
        {
          "output_type": "stream",
          "name": "stdout",
          "text": [
            "This number is even!\n"
          ]
        }
      ],
      "source": [
        "x=10\n",
        "if x%2==0:\n",
        "  print(\"This number is even!\")"
      ]
    },
    {
      "cell_type": "code",
      "source": [
        "x=7\n",
        "if x%2==0:\n",
        "  print(\"This number is even!\")\n",
        "else:\n",
        "  print(\"This is an odd number!\")"
      ],
      "metadata": {
        "colab": {
          "base_uri": "https://localhost:8080/"
        },
        "id": "c4Lyqe3B92IR",
        "outputId": "a01f4498-928a-4052-98f2-3f63adfbbee4"
      },
      "execution_count": null,
      "outputs": [
        {
          "output_type": "stream",
          "name": "stdout",
          "text": [
            "This is an odd number!\n"
          ]
        }
      ]
    },
    {
      "cell_type": "code",
      "source": [
        "a=15\n",
        "b=12\n",
        "if a==b:\n",
        "  print(\"The first numbers are equal\")\n",
        "elif a<b:\n",
        "  print(\"The first number is smaller than the second\")\n",
        "else:\n",
        "  print(\"The first number is greater than the second\")"
      ],
      "metadata": {
        "colab": {
          "base_uri": "https://localhost:8080/"
        },
        "id": "t-ErGZzm_W52",
        "outputId": "9b03f522-bb43-45b1-de0f-704ead54446b"
      },
      "execution_count": null,
      "outputs": [
        {
          "output_type": "stream",
          "name": "stdout",
          "text": [
            "The first number is greater than the second\n"
          ]
        }
      ]
    },
    {
      "cell_type": "code",
      "source": [
        "x=0\n",
        "if x==0:\n",
        "  print(\"This number is zero\")\n",
        "elif x<0:\n",
        "  print(\"This number is negative\")\n",
        "else:\n",
        "  print(\"This number is positive\")"
      ],
      "metadata": {
        "colab": {
          "base_uri": "https://localhost:8080/"
        },
        "id": "m0JuWev4BJPZ",
        "outputId": "1acc4a72-3855-4c10-de74-7badba451ebd"
      },
      "execution_count": null,
      "outputs": [
        {
          "output_type": "stream",
          "name": "stdout",
          "text": [
            "This number is zero\n"
          ]
        }
      ]
    },
    {
      "cell_type": "code",
      "source": [
        "x=-10\n",
        "if x==0:\n",
        "  print(\"This number is zero\")\n",
        "elif x<0:\n",
        "  print(\"This number is negative\")\n",
        "else:\n",
        "  print(\"This number is positive\")"
      ],
      "metadata": {
        "colab": {
          "base_uri": "https://localhost:8080/"
        },
        "id": "dRvofRPvCNl3",
        "outputId": "7d42b92d-9dd8-4a13-86b4-b45849e99308"
      },
      "execution_count": null,
      "outputs": [
        {
          "output_type": "stream",
          "name": "stdout",
          "text": [
            "This number is negative\n"
          ]
        }
      ]
    },
    {
      "cell_type": "code",
      "source": [
        "for i in range(0,6):\n",
        "  print(i)\n"
      ],
      "metadata": {
        "colab": {
          "base_uri": "https://localhost:8080/"
        },
        "id": "lOG3H5QXFj8n",
        "outputId": "062c4c25-3bb3-45d1-dd9e-659149f5e68d"
      },
      "execution_count": null,
      "outputs": [
        {
          "output_type": "stream",
          "name": "stdout",
          "text": [
            "0\n",
            "1\n",
            "2\n",
            "3\n",
            "4\n",
            "5\n"
          ]
        }
      ]
    },
    {
      "cell_type": "code",
      "source": [
        "for i in range(0,6):\n",
        "  print(\"The iteration number is {}\".format(i))"
      ],
      "metadata": {
        "colab": {
          "base_uri": "https://localhost:8080/"
        },
        "id": "ErouezWwFJov",
        "outputId": "cd8527cb-778f-4144-b2c2-187d61bee40d"
      },
      "execution_count": null,
      "outputs": [
        {
          "output_type": "stream",
          "name": "stdout",
          "text": [
            "The iteration number is 0\n",
            "The iteration number is 1\n",
            "The iteration number is 2\n",
            "The iteration number is 3\n",
            "The iteration number is 4\n",
            "The iteration number is 5\n"
          ]
        }
      ]
    },
    {
      "cell_type": "code",
      "source": [
        "i=0\n",
        "while i<5:\n",
        "  print(i)\n",
        "  i=i+1\n",
        "print(\"THE END!\")"
      ],
      "metadata": {
        "colab": {
          "base_uri": "https://localhost:8080/"
        },
        "id": "mjFYwC3bFT6n",
        "outputId": "f8d03f6e-9235-4afb-ad8a-46166b28d592"
      },
      "execution_count": null,
      "outputs": [
        {
          "output_type": "stream",
          "name": "stdout",
          "text": [
            "0\n",
            "1\n",
            "2\n",
            "3\n",
            "4\n",
            "THE END!\n"
          ]
        }
      ]
    },
    {
      "cell_type": "code",
      "source": [
        "targetvalue =5\n",
        "iterate =0\n",
        "while iterate<targetvalue:\n",
        "  print(\"iteration number is {}, which is less than the target value {}\".format(iterate, targetvalue))\n",
        "  iterate = iterate+1"
      ],
      "metadata": {
        "colab": {
          "base_uri": "https://localhost:8080/"
        },
        "id": "bndAYlgIFgT_",
        "outputId": "84c6ab90-7a36-4b3b-c7a0-a5bc2a3e1595"
      },
      "execution_count": null,
      "outputs": [
        {
          "output_type": "stream",
          "name": "stdout",
          "text": [
            "iteration number is 0, which is less than the target value 5\n",
            "iteration number is 1, which is less than the target value 5\n",
            "iteration number is 2, which is less than the target value 5\n",
            "iteration number is 3, which is less than the target value 5\n",
            "iteration number is 4, which is less than the target value 5\n"
          ]
        }
      ]
    },
    {
      "cell_type": "code",
      "source": [
        "colours =[\"blue\", \"red\", \"black\"]\n",
        "cars=[\"Audi\", \"Tesla\", \"Ford\", \"BMW\"]\n",
        "for colour in colours:#outer loop\n",
        "  for car in cars:#inner loop\n",
        "    print(colour, car)"
      ],
      "metadata": {
        "colab": {
          "base_uri": "https://localhost:8080/"
        },
        "id": "q2Vq6YCNGQju",
        "outputId": "4fc12ac5-d623-4dc0-d862-c9ebddc83111"
      },
      "execution_count": null,
      "outputs": [
        {
          "output_type": "stream",
          "name": "stdout",
          "text": [
            "blue Audi\n",
            "blue Tesla\n",
            "blue Ford\n",
            "blue BMW\n",
            "red Audi\n",
            "red Tesla\n",
            "red Ford\n",
            "red BMW\n",
            "black Audi\n",
            "black Tesla\n",
            "black Ford\n",
            "black BMW\n"
          ]
        }
      ]
    },
    {
      "cell_type": "code",
      "source": [
        "for i in range(1,6):\n",
        "  for j in range(1,11):\n",
        "    print(i*j)"
      ],
      "metadata": {
        "colab": {
          "base_uri": "https://localhost:8080/"
        },
        "id": "_SNh-s_VKZdx",
        "outputId": "58e0849f-77fa-4a39-9e23-c9436f177f8f"
      },
      "execution_count": null,
      "outputs": [
        {
          "output_type": "stream",
          "name": "stdout",
          "text": [
            "1\n",
            "2\n",
            "3\n",
            "4\n",
            "5\n",
            "6\n",
            "7\n",
            "8\n",
            "9\n",
            "10\n",
            "2\n",
            "4\n",
            "6\n",
            "8\n",
            "10\n",
            "12\n",
            "14\n",
            "16\n",
            "18\n",
            "20\n",
            "3\n",
            "6\n",
            "9\n",
            "12\n",
            "15\n",
            "18\n",
            "21\n",
            "24\n",
            "27\n",
            "30\n",
            "4\n",
            "8\n",
            "12\n",
            "16\n",
            "20\n",
            "24\n",
            "28\n",
            "32\n",
            "36\n",
            "40\n",
            "5\n",
            "10\n",
            "15\n",
            "20\n",
            "25\n",
            "30\n",
            "35\n",
            "40\n",
            "45\n",
            "50\n"
          ]
        }
      ]
    },
    {
      "cell_type": "code",
      "source": [
        "for i in range(1,6):\n",
        "  for j in range(1,11):\n",
        "    print(i*j, end=' ')"
      ],
      "metadata": {
        "colab": {
          "base_uri": "https://localhost:8080/"
        },
        "id": "Q5_fmUdsK6LH",
        "outputId": "3922f614-0aef-4fb7-e1fe-1d43707b35bb"
      },
      "execution_count": null,
      "outputs": [
        {
          "output_type": "stream",
          "name": "stdout",
          "text": [
            "1 2 3 4 5 6 7 8 9 10 2 4 6 8 10 12 14 16 18 20 3 6 9 12 15 18 21 24 27 30 4 8 12 16 20 24 28 32 36 40 5 10 15 20 25 30 35 40 45 50 "
          ]
        }
      ]
    },
    {
      "cell_type": "code",
      "source": [
        "for i in range(1,6):\n",
        "  for j in range(1,11):\n",
        "    print(i*j, end=' ')\n",
        "  print()"
      ],
      "metadata": {
        "colab": {
          "base_uri": "https://localhost:8080/"
        },
        "id": "zgDbmAJVLS8v",
        "outputId": "126b41a0-4106-4ebe-b124-560f8cb8fbb6"
      },
      "execution_count": null,
      "outputs": [
        {
          "output_type": "stream",
          "name": "stdout",
          "text": [
            "1 2 3 4 5 6 7 8 9 10 \n",
            "2 4 6 8 10 12 14 16 18 20 \n",
            "3 6 9 12 15 18 21 24 27 30 \n",
            "4 8 12 16 20 24 28 32 36 40 \n",
            "5 10 15 20 25 30 35 40 45 50 \n"
          ]
        }
      ]
    },
    {
      "cell_type": "code",
      "source": [
        "targetvalue =6\n",
        "iterate =0\n",
        "while iterate<targetvalue:\n",
        "  print(\"iteration number is {}, which is less than the target value {}\".format(iterate, targetvalue))\n",
        "  if iterate==3:\n",
        "    break\n",
        "  iterate = iterate+1"
      ],
      "metadata": {
        "colab": {
          "base_uri": "https://localhost:8080/"
        },
        "id": "08tpLithLUxP",
        "outputId": "ec63d300-93bf-4c85-dfc4-487a3a08c7b4"
      },
      "execution_count": null,
      "outputs": [
        {
          "output_type": "stream",
          "name": "stdout",
          "text": [
            "iteration number is 0, which is less than the target value 6\n",
            "iteration number is 1, which is less than the target value 6\n",
            "iteration number is 2, which is less than the target value 6\n",
            "iteration number is 3, which is less than the target value 6\n"
          ]
        }
      ]
    },
    {
      "cell_type": "code",
      "source": [
        "targetvalue =6\n",
        "iterate =0\n",
        "while iterate<targetvalue:\n",
        "  iterate=iterate+1\n",
        "  if iterate==3:\n",
        "    continue\n",
        "  print(\"The iteration value is {}, which is less than the target value {}\". format(iterate, targetvalue))"
      ],
      "metadata": {
        "colab": {
          "base_uri": "https://localhost:8080/"
        },
        "id": "db-W7PHQQWPZ",
        "outputId": "ab92b579-9ef3-4328-d4d2-97018b801cb2"
      },
      "execution_count": null,
      "outputs": [
        {
          "output_type": "stream",
          "name": "stdout",
          "text": [
            "The iteration value is 1, which is less than the target value 6\n",
            "The iteration value is 2, which is less than the target value 6\n",
            "The iteration value is 4, which is less than the target value 6\n",
            "The iteration value is 5, which is less than the target value 6\n",
            "The iteration value is 6, which is less than the target value 6\n"
          ]
        }
      ]
    },
    {
      "cell_type": "code",
      "source": [
        "a=1\n",
        "while a< 100:\n",
        "  print(a)\n",
        "  a=a+1\n",
        "  if a==11:\n",
        "    break"
      ],
      "metadata": {
        "colab": {
          "base_uri": "https://localhost:8080/"
        },
        "id": "ciimUtqyS6Sx",
        "outputId": "99c7496b-834c-4212-d5e8-75ce588bd023"
      },
      "execution_count": null,
      "outputs": [
        {
          "output_type": "stream",
          "name": "stdout",
          "text": [
            "1\n",
            "2\n",
            "3\n",
            "4\n",
            "5\n",
            "6\n",
            "7\n",
            "8\n",
            "9\n",
            "10\n"
          ]
        }
      ]
    },
    {
      "cell_type": "code",
      "source": [
        "targetvalue =7\n",
        "iterate =0\n",
        "while iterate<targetvalue:\n",
        "  iterate=iterate+1\n",
        "  if iterate in range(3,6):\n",
        "    continue\n",
        "  print(\"The iteration value is {}, which is less than the target value {}\". format(iterate, targetvalue))"
      ],
      "metadata": {
        "colab": {
          "base_uri": "https://localhost:8080/"
        },
        "id": "tmH1v0EYTCXo",
        "outputId": "5ee94fc5-99af-4e0b-e828-8d2180914de0"
      },
      "execution_count": null,
      "outputs": [
        {
          "output_type": "stream",
          "name": "stdout",
          "text": [
            "The iteration value is 1, which is less than the target value 7\n",
            "The iteration value is 2, which is less than the target value 7\n",
            "The iteration value is 6, which is less than the target value 7\n",
            "The iteration value is 7, which is less than the target value 7\n"
          ]
        }
      ]
    },
    {
      "cell_type": "code",
      "source": [
        "mylist=[\"Michael\", \"Sean\", \"Adam\"]\n",
        "print(mylist)"
      ],
      "metadata": {
        "colab": {
          "base_uri": "https://localhost:8080/"
        },
        "id": "48o9tuYzUgmo",
        "outputId": "4404e347-489f-4762-96b0-ca4d80d77585"
      },
      "execution_count": null,
      "outputs": [
        {
          "output_type": "stream",
          "name": "stdout",
          "text": [
            "['Michael', 'Sean', 'Adam']\n"
          ]
        }
      ]
    },
    {
      "cell_type": "code",
      "source": [
        "mylist=[\"Michael\", \"Sean\", \"Adam\"]\n",
        "mylist[0]"
      ],
      "metadata": {
        "colab": {
          "base_uri": "https://localhost:8080/",
          "height": 36
        },
        "id": "zAOPwEhxYdjq",
        "outputId": "bac1621b-bc3a-4771-d1d5-a7f159ea0399"
      },
      "execution_count": null,
      "outputs": [
        {
          "output_type": "execute_result",
          "data": {
            "text/plain": [
              "'Michael'"
            ],
            "application/vnd.google.colaboratory.intrinsic+json": {
              "type": "string"
            }
          },
          "metadata": {},
          "execution_count": 37
        }
      ]
    },
    {
      "cell_type": "code",
      "source": [
        "mylist=[\"Michael\", \"Sean\", \"Adam\", 5000, True]\n",
        "type(mylist)"
      ],
      "metadata": {
        "colab": {
          "base_uri": "https://localhost:8080/"
        },
        "id": "aAZH7RvzYqSQ",
        "outputId": "5c4ea163-5897-4859-90d4-27a1c66e5eac"
      },
      "execution_count": null,
      "outputs": [
        {
          "output_type": "execute_result",
          "data": {
            "text/plain": [
              "list"
            ]
          },
          "metadata": {},
          "execution_count": 39
        }
      ]
    },
    {
      "cell_type": "code",
      "source": [
        "mylist=[\"Michael\", \"Sean\", \"Adam\", 5000, True]\n",
        "mylist[0]=\"John\"\n",
        "print(mylist)"
      ],
      "metadata": {
        "colab": {
          "base_uri": "https://localhost:8080/"
        },
        "id": "aiGYGh_YY3og",
        "outputId": "27697d5e-feaf-4b5c-a383-e4a5e634a6f4"
      },
      "execution_count": null,
      "outputs": [
        {
          "output_type": "stream",
          "name": "stdout",
          "text": [
            "['John', 'Sean', 'Adam', 5000, True]\n"
          ]
        }
      ]
    },
    {
      "cell_type": "code",
      "source": [
        "mylist=[\"Michael\", \"Sean\", \"Adam\", 5000, True]\n",
        "mylist[1:3]"
      ],
      "metadata": {
        "colab": {
          "base_uri": "https://localhost:8080/"
        },
        "id": "ccJM2xMoZLyR",
        "outputId": "714032be-3995-46c9-d555-4f5293f1ccac"
      },
      "execution_count": null,
      "outputs": [
        {
          "output_type": "execute_result",
          "data": {
            "text/plain": [
              "['Sean', 'Adam']"
            ]
          },
          "metadata": {},
          "execution_count": 43
        }
      ]
    },
    {
      "cell_type": "code",
      "source": [
        "mylist=[\"Michael\", \"Sean\", \"Adam\", 5000, True]\n",
        "print(len(mylist))"
      ],
      "metadata": {
        "colab": {
          "base_uri": "https://localhost:8080/"
        },
        "id": "__w1khEQZcM5",
        "outputId": "8f3405d2-4543-4b9d-bf99-8cb178d46cdc"
      },
      "execution_count": null,
      "outputs": [
        {
          "output_type": "stream",
          "name": "stdout",
          "text": [
            "5\n"
          ]
        }
      ]
    },
    {
      "cell_type": "code",
      "source": [
        "mylist=[\"Michael\", \"Sean\", \"Adam\", 5000, True]\n",
        "if \"Sean\" in mylist:\n",
        "  print(\"Yes the element exist\")"
      ],
      "metadata": {
        "colab": {
          "base_uri": "https://localhost:8080/"
        },
        "id": "1BV4_p8AZnTQ",
        "outputId": "d82f7339-2a0e-4a56-ae6a-c9a0eaaf9158"
      },
      "execution_count": null,
      "outputs": [
        {
          "output_type": "stream",
          "name": "stdout",
          "text": [
            "Yes the element exist\n"
          ]
        }
      ]
    },
    {
      "cell_type": "code",
      "source": [
        "mylist=[\"Michael\", \"Sean\", \"Adam\", 5000, True]\n",
        "mylist.insert(1, \"John\")\n",
        "print(mylist)"
      ],
      "metadata": {
        "colab": {
          "base_uri": "https://localhost:8080/"
        },
        "id": "NlJHchl9Z245",
        "outputId": "2c552a61-1e0f-46c3-a828-8994ce150a3f"
      },
      "execution_count": null,
      "outputs": [
        {
          "output_type": "stream",
          "name": "stdout",
          "text": [
            "['Michael', 'John', 'Sean', 'Adam', 5000, True]\n"
          ]
        }
      ]
    },
    {
      "cell_type": "code",
      "source": [
        "mylist=[\"Michael\", \"Sean\", \"Adam\", 5000, True]\n",
        "mylist.append(\"Zara\")\n",
        "print(mylist)"
      ],
      "metadata": {
        "colab": {
          "base_uri": "https://localhost:8080/"
        },
        "id": "bGzEP4DSadep",
        "outputId": "3afe5b96-ae05-41f4-98f7-8f75f0352545"
      },
      "execution_count": null,
      "outputs": [
        {
          "output_type": "stream",
          "name": "stdout",
          "text": [
            "['Michael', 'Sean', 'Adam', 5000, True, 'Zara']\n"
          ]
        }
      ]
    },
    {
      "cell_type": "code",
      "source": [
        "mylist=[1,2,3,4]\n",
        "mylist.insert(3, 3.1)\n",
        "print(mylist)"
      ],
      "metadata": {
        "colab": {
          "base_uri": "https://localhost:8080/"
        },
        "id": "GwISVkDmawE5",
        "outputId": "c1b98c78-a3e1-44ed-d2a9-e2fb3431f346"
      },
      "execution_count": null,
      "outputs": [
        {
          "output_type": "stream",
          "name": "stdout",
          "text": [
            "[1, 2, 3, 3.1, 4]\n"
          ]
        }
      ]
    },
    {
      "cell_type": "code",
      "source": [
        "mylist=[1,2,3,4]\n",
        "mylist.append(5)\n",
        "print(mylist)"
      ],
      "metadata": {
        "colab": {
          "base_uri": "https://localhost:8080/"
        },
        "id": "SNZSh6zKbKMY",
        "outputId": "0bdde068-c2b8-40d7-9fcd-3867fa2f2ff0"
      },
      "execution_count": null,
      "outputs": [
        {
          "output_type": "stream",
          "name": "stdout",
          "text": [
            "[1, 2, 3, 4, 5]\n"
          ]
        }
      ]
    },
    {
      "cell_type": "code",
      "source": [
        "mylist1=[\"Michael\", \"Sean\", \"Adam\", 5000, True]\n",
        "mylist2=[\"Zara\", \"Paul\", \"John\"]\n",
        "mylist2.extend(mylist1)\n",
        "print(mylist2)"
      ],
      "metadata": {
        "colab": {
          "base_uri": "https://localhost:8080/"
        },
        "id": "e7QUOwWvbSFI",
        "outputId": "1caf22fe-e1ff-4565-8549-28af477b1f93"
      },
      "execution_count": null,
      "outputs": [
        {
          "output_type": "stream",
          "name": "stdout",
          "text": [
            "['Zara', 'Paul', 'John', 'Michael', 'Sean', 'Adam', 5000, True]\n"
          ]
        }
      ]
    },
    {
      "cell_type": "code",
      "source": [
        "mylist=[\"Michael\", \"Sean\", \"Adam\", 5000, True]\n",
        "mylist.remove(5000)#removes a certain element\n",
        "print(mylist)"
      ],
      "metadata": {
        "colab": {
          "base_uri": "https://localhost:8080/"
        },
        "id": "WaOez52tbydp",
        "outputId": "b6c2c68a-7e25-4f49-eb62-c4a115311512"
      },
      "execution_count": null,
      "outputs": [
        {
          "output_type": "stream",
          "name": "stdout",
          "text": [
            "['Michael', 'Sean', 'Adam', True]\n"
          ]
        }
      ]
    },
    {
      "cell_type": "code",
      "source": [
        "mylist=[\"Michael\", \"Sean\", \"Adam\", 5000, True]\n",
        "mylist.pop(3)#pops a specified index\n",
        "print(mylist)"
      ],
      "metadata": {
        "colab": {
          "base_uri": "https://localhost:8080/"
        },
        "id": "abqF2n2gcCUR",
        "outputId": "246a681a-47ae-4576-d956-0d8de1cb759b"
      },
      "execution_count": null,
      "outputs": [
        {
          "output_type": "stream",
          "name": "stdout",
          "text": [
            "['Michael', 'Sean', 'Adam', True]\n"
          ]
        }
      ]
    },
    {
      "cell_type": "code",
      "source": [
        "mylist=[\"Michael\", \"Sean\", \"Adam\", 5000, True]\n",
        "mylist.pop()#automatically remove last index\n",
        "print(mylist)"
      ],
      "metadata": {
        "colab": {
          "base_uri": "https://localhost:8080/"
        },
        "id": "5c5Igx3pcSeo",
        "outputId": "9ee6badc-3fb0-4c63-9373-049923cf9e08"
      },
      "execution_count": null,
      "outputs": [
        {
          "output_type": "stream",
          "name": "stdout",
          "text": [
            "['Michael', 'Sean', 'Adam', 5000]\n"
          ]
        }
      ]
    },
    {
      "cell_type": "code",
      "source": [
        "#sort ascending\n",
        "mylist=[\"Michael\", \"Sean\", \"Adam\"]\n",
        "mylist.sort()\n",
        "print(mylist)"
      ],
      "metadata": {
        "colab": {
          "base_uri": "https://localhost:8080/"
        },
        "id": "FqgSFnFIc7Ip",
        "outputId": "f5c3bb6d-c374-4c6b-83b8-3a84fdca4ae0"
      },
      "execution_count": null,
      "outputs": [
        {
          "output_type": "stream",
          "name": "stdout",
          "text": [
            "['Adam', 'Michael', 'Sean']\n"
          ]
        }
      ]
    },
    {
      "cell_type": "code",
      "source": [
        "#sort descending\n",
        "mylist=[\"Michael\", \"Sean\", \"Adam\"]\n",
        "mylist.sort(reverse=True)\n",
        "print(mylist)"
      ],
      "metadata": {
        "colab": {
          "base_uri": "https://localhost:8080/"
        },
        "id": "Gn53_Pv_dPeA",
        "outputId": "7e9ca315-a1ca-4dec-a518-08cb29930ad0"
      },
      "execution_count": null,
      "outputs": [
        {
          "output_type": "stream",
          "name": "stdout",
          "text": [
            "['Sean', 'Michael', 'Adam']\n"
          ]
        }
      ]
    },
    {
      "cell_type": "code",
      "source": [
        "mylist=[\"Michael\", \"Sean\", \"Adam\"]\n",
        "mylist.reverse()\n",
        "print(mylist)"
      ],
      "metadata": {
        "colab": {
          "base_uri": "https://localhost:8080/"
        },
        "id": "ZEClOlFheajt",
        "outputId": "36580c57-2341-4ead-f6ff-3eb08fdfb69a"
      },
      "execution_count": null,
      "outputs": [
        {
          "output_type": "stream",
          "name": "stdout",
          "text": [
            "['Adam', 'Sean', 'Michael']\n"
          ]
        }
      ]
    },
    {
      "cell_type": "code",
      "source": [
        "mylist1=[\"Michael\", \"Sean\", \"Adam\", 5000, True]\n",
        "mylist2=[\"Zara\", \"Paul\", \"John\"]\n",
        "mylist3=mylist2+mylist1\n",
        "print(mylist3)"
      ],
      "metadata": {
        "colab": {
          "base_uri": "https://localhost:8080/"
        },
        "id": "kTtStVDTehLJ",
        "outputId": "c5a24fd2-0f6e-4805-a1ea-22b4ad87d832"
      },
      "execution_count": null,
      "outputs": [
        {
          "output_type": "stream",
          "name": "stdout",
          "text": [
            "['Zara', 'Paul', 'John', 'Michael', 'Sean', 'Adam', 5000, True]\n"
          ]
        }
      ]
    },
    {
      "cell_type": "code",
      "source": [
        "mylist1=[\"Michael\", \"Sean\", \"Adam\", 5000, True]\n",
        "help(mylist.append)"
      ],
      "metadata": {
        "colab": {
          "base_uri": "https://localhost:8080/"
        },
        "id": "Nf7M1ywJfB5Z",
        "outputId": "fc468695-5f0d-44a0-de10-d3ee1097fc5f"
      },
      "execution_count": null,
      "outputs": [
        {
          "output_type": "stream",
          "name": "stdout",
          "text": [
            "Help on built-in function append:\n",
            "\n",
            "append(object, /) method of builtins.list instance\n",
            "    Append object to the end of the list.\n",
            "\n"
          ]
        }
      ]
    },
    {
      "cell_type": "code",
      "source": [
        "mylist=[\"Fallout\", \"Final Fantasy\", \"FIFA\", \"Super Mario\", \"Zelda\"]\n",
        "if \"Zelda\" in mylist:\n",
        "  print(\"Yes this game is available\")"
      ],
      "metadata": {
        "colab": {
          "base_uri": "https://localhost:8080/"
        },
        "id": "O4lQDo1AfRqo",
        "outputId": "2058d1d2-2741-4a30-d4c4-deef61f7f844"
      },
      "execution_count": null,
      "outputs": [
        {
          "output_type": "stream",
          "name": "stdout",
          "text": [
            "Yes this game is available\n"
          ]
        }
      ]
    },
    {
      "cell_type": "code",
      "source": [
        "mylist=[\"Google\", \"Meta\", \"Instagram\", \"TikTok\", \"Snapchat\"]\n",
        "element= input(\"Please input tech company name (in Capitalised form):\")\n",
        "if element in mylist:\n",
        "  print(\"The tech company already exists\")\n",
        "else:\n",
        "  mylist.append(element)\n",
        "  print(\"The new list is:\", mylist)"
      ],
      "metadata": {
        "colab": {
          "base_uri": "https://localhost:8080/"
        },
        "id": "lJwDpFFigkDT",
        "outputId": "7daa1799-157e-423f-d99d-b433eb85ff50"
      },
      "execution_count": null,
      "outputs": [
        {
          "output_type": "stream",
          "name": "stdout",
          "text": [
            "Please input tech company name (in Capitalised form):Twitter\n",
            "The new list is: ['Google', 'Meta', 'Instagram', 'TikTok', 'Snapchat', 'Twitter']\n"
          ]
        }
      ]
    },
    {
      "cell_type": "code",
      "source": [
        "mylist=[\"Fallout\", \"Final Fantasy\", \"FIFA\", \"Super Mario\", \"Zelda\"]\n",
        "element= input(\"Please add your favourite game to the list (in Capitalised form):\")\n",
        "if element in mylist:\n",
        "  print(\"This videogame is already on your list\")\n",
        "else:\n",
        "  mylist.append(element)\n",
        "  print(\"The new list is:\", mylist)"
      ],
      "metadata": {
        "colab": {
          "base_uri": "https://localhost:8080/"
        },
        "id": "_MZpXQneh6bi",
        "outputId": "b50a9f90-acf2-4ebc-a99a-a7b812207df3"
      },
      "execution_count": null,
      "outputs": [
        {
          "output_type": "stream",
          "name": "stdout",
          "text": [
            "Please add your favourite game to the list (in Capitalised form):Cyberpunk\n",
            "The new list is: ['Fallout', 'Final Fantasy', 'FIFA', 'Super Mario', 'Zelda', 'Cyberpunk']\n"
          ]
        }
      ]
    },
    {
      "cell_type": "code",
      "source": [],
      "metadata": {
        "colab": {
          "base_uri": "https://localhost:8080/",
          "height": 172
        },
        "id": "RgK_ZR-QktAI",
        "outputId": "cf9e6929-9227-43b2-883c-8604f64a598a"
      },
      "execution_count": null,
      "outputs": [
        {
          "output_type": "error",
          "ename": "TypeError",
          "evalue": "ignored",
          "traceback": [
            "\u001b[0;31m---------------------------------------------------------------------------\u001b[0m",
            "\u001b[0;31mTypeError\u001b[0m                                 Traceback (most recent call last)",
            "\u001b[0;32m<ipython-input-76-ff6dcb82abed>\u001b[0m in \u001b[0;36m<module>\u001b[0;34m\u001b[0m\n\u001b[0;32m----> 1\u001b[0;31m \u001b[0mtype\u001b[0m\u001b[0;34m(\u001b[0m\u001b[0;34m)\u001b[0m\u001b[0;34m\u001b[0m\u001b[0;34m\u001b[0m\u001b[0m\n\u001b[0m",
            "\u001b[0;31mTypeError\u001b[0m: type() takes 1 or 3 arguments"
          ]
        }
      ]
    },
    {
      "cell_type": "code",
      "source": [
        "mylist=[\"Google\", \"Meta\", \"Instagram\", \"TikTok\", \"Snapchat\"]\n",
        "for element in mylist:\n",
        "  print(element)"
      ],
      "metadata": {
        "colab": {
          "base_uri": "https://localhost:8080/"
        },
        "id": "t8XFzZNakvqZ",
        "outputId": "9a8c0a00-5254-425a-fc76-535658cd13c5"
      },
      "execution_count": null,
      "outputs": [
        {
          "output_type": "stream",
          "name": "stdout",
          "text": [
            "Google\n",
            "Meta\n",
            "Instagram\n",
            "TikTok\n",
            "Snapchat\n"
          ]
        }
      ]
    },
    {
      "cell_type": "code",
      "source": [
        "a=[1,2,3,4,5,6,7]#conventional way\n",
        "#=2,4,6,8,10,12,14\n",
        "b=[]\n",
        "for i in a:\n",
        "  b.append(i*2)\n",
        "print(b)"
      ],
      "metadata": {
        "colab": {
          "base_uri": "https://localhost:8080/"
        },
        "id": "-cR10MJalVn5",
        "outputId": "8e1ce836-4e8a-469e-f611-29bae5bc5e3d"
      },
      "execution_count": null,
      "outputs": [
        {
          "output_type": "stream",
          "name": "stdout",
          "text": [
            "[2, 4, 6, 8, 10, 12, 14]\n"
          ]
        }
      ]
    },
    {
      "cell_type": "code",
      "source": [
        "a=[1,2,3,4,5,6,7]#comprehension way\n",
        "b=[i*2 for i in a]\n",
        "print(b)"
      ],
      "metadata": {
        "colab": {
          "base_uri": "https://localhost:8080/"
        },
        "id": "OgRlpGOamDkx",
        "outputId": "ad1e1dc3-66f0-4f16-87eb-4679311b6905"
      },
      "execution_count": null,
      "outputs": [
        {
          "output_type": "stream",
          "name": "stdout",
          "text": [
            "[2, 4, 6, 8, 10, 12, 14]\n"
          ]
        }
      ]
    },
    {
      "cell_type": "code",
      "source": [
        "mylist=[1000,20,20120,50,95, 1021]#conventional way\n",
        "mynewlist=[]\n",
        "for i in mylist:\n",
        "  if i<100:\n",
        "    mynewlist.append(i)\n",
        "print(mynewlist)"
      ],
      "metadata": {
        "colab": {
          "base_uri": "https://localhost:8080/"
        },
        "id": "8PGAWLhNnot6",
        "outputId": "70593de4-1c60-46c6-f1fa-58b2e4ad16aa"
      },
      "execution_count": null,
      "outputs": [
        {
          "output_type": "stream",
          "name": "stdout",
          "text": [
            "[20, 50, 95]\n"
          ]
        }
      ]
    },
    {
      "cell_type": "code",
      "source": [
        "mylist=[1000,20,20120,50,95, 1021]#comprehension way\n",
        "mynewlist=[i for i in mylist if i<100]\n",
        "print(mynewlist)"
      ],
      "metadata": {
        "colab": {
          "base_uri": "https://localhost:8080/"
        },
        "id": "_dXrgRkmn2DK",
        "outputId": "c1b2111d-3266-45c0-95f6-bf01daaa4563"
      },
      "execution_count": null,
      "outputs": [
        {
          "output_type": "stream",
          "name": "stdout",
          "text": [
            "[20, 50, 95]\n"
          ]
        }
      ]
    },
    {
      "cell_type": "code",
      "source": [
        "mylist=[\"Michael\", \"Sean\", \"Adam\", \"Zara\"]#comprehension\n",
        "mynewlist=[i.upper() for i in mylist]\n",
        "print(mynewlist)"
      ],
      "metadata": {
        "colab": {
          "base_uri": "https://localhost:8080/"
        },
        "id": "y_YSbpUcocNC",
        "outputId": "73fcd57f-311f-499d-c06b-99f794264ae2"
      },
      "execution_count": null,
      "outputs": [
        {
          "output_type": "stream",
          "name": "stdout",
          "text": [
            "['MICHAEL', 'SEAN', 'ADAM', 'ZARA']\n"
          ]
        }
      ]
    },
    {
      "cell_type": "code",
      "source": [
        "mylist=[letter.upper() for letter in \"python\"]#comprehension\n",
        "print(mylist)"
      ],
      "metadata": {
        "colab": {
          "base_uri": "https://localhost:8080/"
        },
        "id": "wJLWV2qEpVVD",
        "outputId": "d4086c3b-79c0-40d6-f1b9-e48eebf636de"
      },
      "execution_count": null,
      "outputs": [
        {
          "output_type": "stream",
          "name": "stdout",
          "text": [
            "['P', 'Y', 'T', 'H', 'O', 'N']\n"
          ]
        }
      ]
    },
    {
      "cell_type": "code",
      "source": [
        "mylist=[1,2,[\"a\",1],3]#sublist\n",
        "sublist=mylist[2]\n",
        "print(sublist)"
      ],
      "metadata": {
        "colab": {
          "base_uri": "https://localhost:8080/"
        },
        "id": "x3XaV9VNqOca",
        "outputId": "2bcb8445-cb5f-437c-f479-038fdf9bde68"
      },
      "execution_count": null,
      "outputs": [
        {
          "output_type": "stream",
          "name": "stdout",
          "text": [
            "['a', 1]\n"
          ]
        }
      ]
    },
    {
      "cell_type": "code",
      "source": [
        "mylist=[1,2,[\"a\",1],3]#sublist\n",
        "sublist=mylist[2][0]\n",
        "print(sublist)"
      ],
      "metadata": {
        "colab": {
          "base_uri": "https://localhost:8080/"
        },
        "id": "ye74Ev4brCxq",
        "outputId": "898d6e1e-2ac7-4f1b-9dfa-b9a93ccc8792"
      },
      "execution_count": null,
      "outputs": [
        {
          "output_type": "stream",
          "name": "stdout",
          "text": [
            "a\n"
          ]
        }
      ]
    },
    {
      "cell_type": "code",
      "source": [
        "mylist=[1,2,[\"a\",1],3]#sublist\n",
        "sublist=mylist[2][1]\n",
        "print(sublist)"
      ],
      "metadata": {
        "colab": {
          "base_uri": "https://localhost:8080/"
        },
        "id": "e1kx66XorY_z",
        "outputId": "f2be6132-d502-4391-ee69-2d4b07d3fc30"
      },
      "execution_count": null,
      "outputs": [
        {
          "output_type": "stream",
          "name": "stdout",
          "text": [
            "1\n"
          ]
        }
      ]
    },
    {
      "cell_type": "code",
      "source": [
        "matrix=[[0,1,2],[3,4,5],[6,7,8],[9,10,11]]\n",
        "rows=len(matrix)\n",
        "col=len(matrix[0])\n",
        "print(rows, col)"
      ],
      "metadata": {
        "colab": {
          "base_uri": "https://localhost:8080/"
        },
        "id": "JXP7ozEKrboT",
        "outputId": "d02ef6f6-8bd6-4f1e-9699-5c017365a7f0"
      },
      "execution_count": null,
      "outputs": [
        {
          "output_type": "stream",
          "name": "stdout",
          "text": [
            "4 3\n"
          ]
        }
      ]
    },
    {
      "cell_type": "code",
      "source": [
        "matrix=[[0,1,2],[3,4,5],[6,7,8],[9,10,11]]#rows can be sostitute with the formula\n",
        "rows=len(matrix)\n",
        "col=len(matrix[0])\n",
        "for i in range(0,rows):\n",
        "  print(matrix[i])"
      ],
      "metadata": {
        "colab": {
          "base_uri": "https://localhost:8080/"
        },
        "id": "T6ZN1LZMsyui",
        "outputId": "a16ac077-cf84-450d-e796-6b5bbf23145c"
      },
      "execution_count": null,
      "outputs": [
        {
          "output_type": "stream",
          "name": "stdout",
          "text": [
            "[0, 1, 2]\n",
            "[3, 4, 5]\n",
            "[6, 7, 8]\n",
            "[9, 10, 11]\n"
          ]
        }
      ]
    },
    {
      "cell_type": "code",
      "source": [
        "matrix[1][0]"
      ],
      "metadata": {
        "colab": {
          "base_uri": "https://localhost:8080/"
        },
        "id": "YScF4Bqut0AS",
        "outputId": "fe053d97-9f20-4abf-871a-b6d6734d616b"
      },
      "execution_count": null,
      "outputs": [
        {
          "output_type": "execute_result",
          "data": {
            "text/plain": [
              "3"
            ]
          },
          "metadata": {},
          "execution_count": 109
        }
      ]
    },
    {
      "cell_type": "code",
      "source": [
        "matrix[3][1]"
      ],
      "metadata": {
        "colab": {
          "base_uri": "https://localhost:8080/"
        },
        "id": "RgRp55wfuOZz",
        "outputId": "7b829e61-835a-487b-874b-4e6e2d773bbb"
      },
      "execution_count": null,
      "outputs": [
        {
          "output_type": "execute_result",
          "data": {
            "text/plain": [
              "10"
            ]
          },
          "metadata": {},
          "execution_count": 110
        }
      ]
    },
    {
      "cell_type": "code",
      "source": [
        "mydict={\"employee\":\"Zara\",\"department\":\"operations\",\"Salary\": 5000}#dictionary\n",
        "print(mydict)"
      ],
      "metadata": {
        "colab": {
          "base_uri": "https://localhost:8080/"
        },
        "id": "rB6kd1hnur1t",
        "outputId": "4717502f-ddaa-4621-bd1f-fbae4e86df6b"
      },
      "execution_count": null,
      "outputs": [
        {
          "output_type": "stream",
          "name": "stdout",
          "text": [
            "{'employee': 'Zara', 'department': 'operations', 'Salary': 5000}\n"
          ]
        }
      ]
    },
    {
      "cell_type": "code",
      "source": [
        "mydict={\"employee\":\"Zara\",\"department\":\"operations\",\"Salary\": 5000}[filter just employee]\n",
        "print(mydict[\"employee\"])"
      ],
      "metadata": {
        "colab": {
          "base_uri": "https://localhost:8080/"
        },
        "id": "2efwG8z_yVzh",
        "outputId": "e6389433-8849-498b-d1d6-ba7874ddcbd5"
      },
      "execution_count": null,
      "outputs": [
        {
          "output_type": "stream",
          "name": "stdout",
          "text": [
            "Zara\n"
          ]
        }
      ]
    },
    {
      "cell_type": "code",
      "source": [
        "mydict={\"employee\":\"Zara\",\"department\":\"operations\",\"Salary\": 5000}#substitute operations with sales\n",
        "mydict[\"department\"] = \"sales\"\n",
        "print(mydict)"
      ],
      "metadata": {
        "colab": {
          "base_uri": "https://localhost:8080/"
        },
        "id": "9myJx-VQyu-z",
        "outputId": "b12f4673-1f81-4db0-dea0-7b7d5515a1ca"
      },
      "execution_count": null,
      "outputs": [
        {
          "output_type": "stream",
          "name": "stdout",
          "text": [
            "{'employee': 'Zara', 'department': 'sales', 'Salary': 5000}\n"
          ]
        }
      ]
    },
    {
      "cell_type": "code",
      "source": [
        "mydict={\"employee\":\"Zara\",\"department\":\"operations\",\"Salary\": 5000}#count elements in dictionary\n",
        "print(len(mydict))"
      ],
      "metadata": {
        "colab": {
          "base_uri": "https://localhost:8080/"
        },
        "id": "U5tGFA69y3rL",
        "outputId": "b566315f-dd5d-44de-94d3-3089def47bb0"
      },
      "execution_count": null,
      "outputs": [
        {
          "output_type": "stream",
          "name": "stdout",
          "text": [
            "3\n"
          ]
        }
      ]
    },
    {
      "cell_type": "code",
      "source": [
        "mydict={\"employee\":\"Zara\",\"department\":\"operations\",\"Salary\": 5000}#type of list\n",
        "print(type(mydict))"
      ],
      "metadata": {
        "colab": {
          "base_uri": "https://localhost:8080/"
        },
        "id": "Zpeq7Ii2zG6c",
        "outputId": "933b1a08-9e6a-4ab6-c063-399bcd84e507"
      },
      "execution_count": null,
      "outputs": [
        {
          "output_type": "stream",
          "name": "stdout",
          "text": [
            "<class 'dict'>\n"
          ]
        }
      ]
    },
    {
      "cell_type": "code",
      "source": [
        "mydict={\n",
        "    1:{\"employee\":\"Zara\",\"department\":\"operations\",\"Salary\": 5000},\n",
        "    2: {\"employee\":\"Sean\",\"department\":\"sales\",\"Salary\": 4000}\n",
        "}\n",
        "print(mydict[1])"
      ],
      "metadata": {
        "colab": {
          "base_uri": "https://localhost:8080/"
        },
        "id": "jkbikTFAzM_c",
        "outputId": "006b91f5-b88d-424f-9f53-c5916f73c787"
      },
      "execution_count": null,
      "outputs": [
        {
          "output_type": "stream",
          "name": "stdout",
          "text": [
            "{'employee': 'Zara', 'department': 'operations', 'Salary': 5000}\n"
          ]
        }
      ]
    },
    {
      "cell_type": "code",
      "source": [
        "print(mydict[2])"
      ],
      "metadata": {
        "colab": {
          "base_uri": "https://localhost:8080/"
        },
        "id": "fSurwRFSzsxk",
        "outputId": "c17ebd00-8677-4fa6-8cdb-031221142d7a"
      },
      "execution_count": null,
      "outputs": [
        {
          "output_type": "stream",
          "name": "stdout",
          "text": [
            "{'employee': 'Sean', 'department': 'sales', 'Salary': 4000}\n"
          ]
        }
      ]
    },
    {
      "cell_type": "code",
      "source": [
        "print(mydict[1][\"employee\"])"
      ],
      "metadata": {
        "colab": {
          "base_uri": "https://localhost:8080/"
        },
        "id": "oAE-r-xoz01D",
        "outputId": "f21e3d83-f1e2-4af5-c185-830487de1b25"
      },
      "execution_count": null,
      "outputs": [
        {
          "output_type": "stream",
          "name": "stdout",
          "text": [
            "Zara\n"
          ]
        }
      ]
    },
    {
      "cell_type": "code",
      "source": [
        "mydict={\"employee\":\"Zara\",\"department\":\"operations\",\"Salary\": 5000}\n",
        "mydict.keys()"
      ],
      "metadata": {
        "colab": {
          "base_uri": "https://localhost:8080/"
        },
        "id": "P8h-5VKa0DXU",
        "outputId": "57548753-6be5-4328-88c2-13e3493cdf5e"
      },
      "execution_count": null,
      "outputs": [
        {
          "output_type": "execute_result",
          "data": {
            "text/plain": [
              "dict_keys(['employee', 'department', 'Salary'])"
            ]
          },
          "metadata": {},
          "execution_count": 128
        }
      ]
    },
    {
      "cell_type": "code",
      "source": [
        "mydict={\"employee\":\"Zara\",\"department\":\"operations\",\"Salary\": 5000}\n",
        "mydict.values()"
      ],
      "metadata": {
        "colab": {
          "base_uri": "https://localhost:8080/"
        },
        "id": "H8fxN0Sc0Xcr",
        "outputId": "7a93967b-1cc3-430f-8c5d-fd59241fed91"
      },
      "execution_count": null,
      "outputs": [
        {
          "output_type": "execute_result",
          "data": {
            "text/plain": [
              "dict_values(['Zara', 'operations', 5000])"
            ]
          },
          "metadata": {},
          "execution_count": 129
        }
      ]
    },
    {
      "cell_type": "code",
      "source": [
        "mydict={\"employee\":\"Zara\",\"department\":\"operations\",\"Salary\": 5000}\n",
        "mydict.items()"
      ],
      "metadata": {
        "colab": {
          "base_uri": "https://localhost:8080/"
        },
        "id": "ktTyg6LM0ZJk",
        "outputId": "8aa54bdf-5636-43ce-8f0e-7f83babfca26"
      },
      "execution_count": null,
      "outputs": [
        {
          "output_type": "execute_result",
          "data": {
            "text/plain": [
              "dict_items([('employee', 'Zara'), ('department', 'operations'), ('Salary', 5000)])"
            ]
          },
          "metadata": {},
          "execution_count": 130
        }
      ]
    },
    {
      "cell_type": "code",
      "source": [
        "mydict={\"employee\":\"Zara\",\"department\":\"operations\",\"Salary\": 5000}\n",
        "if \"department\" in mydict:\n",
        "  print(\"Yes the key exist\")"
      ],
      "metadata": {
        "colab": {
          "base_uri": "https://localhost:8080/"
        },
        "id": "MZ0-MEmw0bor",
        "outputId": "ea73761c-7f9e-4836-a571-eaaec3564967"
      },
      "execution_count": null,
      "outputs": [
        {
          "output_type": "stream",
          "name": "stdout",
          "text": [
            "Yes the key exist\n"
          ]
        }
      ]
    },
    {
      "cell_type": "code",
      "source": [
        "mydict={\"employee\":\"Zara\",\"department\":\"operations\",\"Salary\": 5000}\n",
        "mydict.update({\"employee\":\"Sean\"})"
      ],
      "metadata": {
        "id": "l4uYIWp00rkL"
      },
      "execution_count": null,
      "outputs": []
    },
    {
      "cell_type": "code",
      "source": [
        "print(mydict)"
      ],
      "metadata": {
        "colab": {
          "base_uri": "https://localhost:8080/"
        },
        "id": "TYABb7p-1GyT",
        "outputId": "cb2c338f-7c5b-4885-cbe0-0528f6fea8af"
      },
      "execution_count": null,
      "outputs": [
        {
          "output_type": "stream",
          "name": "stdout",
          "text": [
            "{'employee': 'Sean', 'department': 'operations', 'Salary': 5000}\n"
          ]
        }
      ]
    },
    {
      "cell_type": "code",
      "source": [
        "mydict={\"employee\":\"Zara\",\"department\":\"operations\",\"Salary\": 5000}\n",
        "mydict.update({\"status\":\"Permanent\"})\n",
        "print(mydict)"
      ],
      "metadata": {
        "colab": {
          "base_uri": "https://localhost:8080/"
        },
        "id": "7UXUy1qv1KLT",
        "outputId": "045704d5-26a0-4683-b326-dfe747fde12c"
      },
      "execution_count": null,
      "outputs": [
        {
          "output_type": "stream",
          "name": "stdout",
          "text": [
            "{'employee': 'Zara', 'department': 'operations', 'Salary': 5000, 'status': 'Permanent'}\n"
          ]
        }
      ]
    },
    {
      "cell_type": "code",
      "source": [
        "mydict={\"employee\":\"Zara\",\"department\":\"operations\",\"Salary\": 5000,\"status\":\"permanent\"}\n",
        "del mydict[\"status\"]\n",
        "print(mydict)"
      ],
      "metadata": {
        "colab": {
          "base_uri": "https://localhost:8080/"
        },
        "id": "1PaZa-0v1V3r",
        "outputId": "d06013a8-2d27-4304-b307-9ac562967162"
      },
      "execution_count": null,
      "outputs": [
        {
          "output_type": "stream",
          "name": "stdout",
          "text": [
            "{'employee': 'Zara', 'department': 'operations', 'Salary': 5000}\n"
          ]
        }
      ]
    },
    {
      "cell_type": "code",
      "source": [
        "mydict={\"employee\":\"Zara\",\"department\":\"operations\",\"Salary\": 5000,\"status\":\"permanent\"}\n",
        "mydict.clear()\n",
        "print(mydict)"
      ],
      "metadata": {
        "colab": {
          "base_uri": "https://localhost:8080/"
        },
        "id": "ohWTHfDK1leE",
        "outputId": "d806e4a6-4a5b-43c2-8be0-da6567646d59"
      },
      "execution_count": null,
      "outputs": [
        {
          "output_type": "stream",
          "name": "stdout",
          "text": [
            "{}\n"
          ]
        }
      ]
    },
    {
      "cell_type": "code",
      "source": [
        "mydict={\"employee\":\"Zara\",\"department\":\"operations\",\"Salary\": 5000,\"status\":\"permanent\"}\n",
        "for item in mydict.values():\n",
        "  print(item)"
      ],
      "metadata": {
        "colab": {
          "base_uri": "https://localhost:8080/"
        },
        "id": "TSd9EY7y2dbV",
        "outputId": "c9165e7c-0f41-4115-ba56-02baccb1cb80"
      },
      "execution_count": null,
      "outputs": [
        {
          "output_type": "stream",
          "name": "stdout",
          "text": [
            "Zara\n",
            "operations\n",
            "5000\n",
            "permanent\n"
          ]
        }
      ]
    },
    {
      "cell_type": "code",
      "source": [
        "mydict={\"employee\":\"Zara\",\"department\":\"operations\",\"Salary\": 5000,\"status\":\"permanent\"}\n",
        "for item in mydict.keys():\n",
        "  print(item)"
      ],
      "metadata": {
        "colab": {
          "base_uri": "https://localhost:8080/"
        },
        "id": "St9gyNHO2jbT",
        "outputId": "363cd7de-15b0-4023-9abb-10798a647e06"
      },
      "execution_count": null,
      "outputs": [
        {
          "output_type": "stream",
          "name": "stdout",
          "text": [
            "employee\n",
            "department\n",
            "Salary\n",
            "status\n"
          ]
        }
      ]
    },
    {
      "cell_type": "code",
      "source": [
        "mydict={\"employee\":\"Zara\",\"department\":\"operations\",\"Salary\": 5000,\"status\":\"permanent\"}\n",
        "for keys, values in mydict.items():\n",
        "  print(keys, values)"
      ],
      "metadata": {
        "colab": {
          "base_uri": "https://localhost:8080/"
        },
        "id": "PCKjSCT72ofs",
        "outputId": "47afd7ed-e5eb-4e6b-b09f-95c44d47a430"
      },
      "execution_count": null,
      "outputs": [
        {
          "output_type": "stream",
          "name": "stdout",
          "text": [
            "employee Zara\n",
            "department operations\n",
            "Salary 5000\n",
            "status permanent\n"
          ]
        }
      ]
    },
    {
      "cell_type": "code",
      "source": [
        "mytuple=(\"Audi\",\"Ford\",\"Testa\", 5000, True)"
      ],
      "metadata": {
        "id": "bie5sC7325UK"
      },
      "execution_count": null,
      "outputs": []
    },
    {
      "cell_type": "code",
      "source": [
        "type(mytuple)"
      ],
      "metadata": {
        "colab": {
          "base_uri": "https://localhost:8080/"
        },
        "id": "SyCdwA6j5DmM",
        "outputId": "43b8dfbe-ef5b-4c7e-bed2-46900394c5db"
      },
      "execution_count": null,
      "outputs": [
        {
          "output_type": "execute_result",
          "data": {
            "text/plain": [
              "tuple"
            ]
          },
          "metadata": {},
          "execution_count": 149
        }
      ]
    },
    {
      "cell_type": "code",
      "source": [
        "mytuple=(\"Audi\",\"Ford\",\"Testa\", 5000, True)\n",
        "mytuple[1]"
      ],
      "metadata": {
        "colab": {
          "base_uri": "https://localhost:8080/",
          "height": 36
        },
        "id": "f4I3K3xE5FE0",
        "outputId": "05dd268d-bc6a-48d9-cf91-a2bdf348fa75"
      },
      "execution_count": null,
      "outputs": [
        {
          "output_type": "execute_result",
          "data": {
            "text/plain": [
              "'Ford'"
            ],
            "application/vnd.google.colaboratory.intrinsic+json": {
              "type": "string"
            }
          },
          "metadata": {},
          "execution_count": 150
        }
      ]
    },
    {
      "cell_type": "code",
      "source": [
        "mytuple=(\"Audi\",\"Ford\",\"Testa\", 5000, True)\n",
        "mytuple[0:3]"
      ],
      "metadata": {
        "colab": {
          "base_uri": "https://localhost:8080/"
        },
        "id": "woZMuQs55SdO",
        "outputId": "066f0b78-143f-421a-b115-0026c456f717"
      },
      "execution_count": null,
      "outputs": [
        {
          "output_type": "execute_result",
          "data": {
            "text/plain": [
              "('Audi', 'Ford', 'Testa')"
            ]
          },
          "metadata": {},
          "execution_count": 151
        }
      ]
    },
    {
      "cell_type": "code",
      "source": [
        "mytuple=(\"Audi\",\"Ford\",\"Testa\", 5000, True)\n",
        "mylist=list(mytuple)#chaning tuple to a list\n",
        "mylist[0]=\"Toyota\"\n",
        "mytuple=tuple(mylist)#changing back to a tuple\n",
        "print(mytuple)"
      ],
      "metadata": {
        "colab": {
          "base_uri": "https://localhost:8080/"
        },
        "id": "8NHGdhvv5a2c",
        "outputId": "615d6545-5381-4021-ec6e-5d4ce9e1e417"
      },
      "execution_count": null,
      "outputs": [
        {
          "output_type": "stream",
          "name": "stdout",
          "text": [
            "('Toyota', 'Ford', 'Testa', 5000, True)\n"
          ]
        }
      ]
    },
    {
      "cell_type": "code",
      "source": [
        "mytuple=(\"Audi\",\"Ford\",\"Tesla\", 5000, True)\n",
        "mytuple.index(\"Tesla\")"
      ],
      "metadata": {
        "colab": {
          "base_uri": "https://localhost:8080/"
        },
        "id": "IpkT5y1s5xWE",
        "outputId": "2e8ebe05-5ca3-42ae-8ca0-8d48b5da7db3"
      },
      "execution_count": null,
      "outputs": [
        {
          "output_type": "execute_result",
          "data": {
            "text/plain": [
              "2"
            ]
          },
          "metadata": {},
          "execution_count": 155
        }
      ]
    },
    {
      "cell_type": "code",
      "source": [
        "mytuple=(\"Audi\",\"Ford\",\"Audi\", \"Tesla\", \"Audi\", 5000, True)\n",
        "mytuple.count(\"Audi\")"
      ],
      "metadata": {
        "colab": {
          "base_uri": "https://localhost:8080/"
        },
        "id": "B57GpW0S6LFN",
        "outputId": "7d8b4075-89d6-4867-cb42-7ab10773abd5"
      },
      "execution_count": null,
      "outputs": [
        {
          "output_type": "execute_result",
          "data": {
            "text/plain": [
              "3"
            ]
          },
          "metadata": {},
          "execution_count": 156
        }
      ]
    },
    {
      "cell_type": "code",
      "source": [
        "mytuple=(\"Audi\",\"Ford\",\"Audi\", \"Tesla\", \"Audi\", 5000, True)\n",
        "for i in mytuple:\n",
        "  print(i)"
      ],
      "metadata": {
        "colab": {
          "base_uri": "https://localhost:8080/"
        },
        "id": "eNAv3NFd6ksQ",
        "outputId": "a19df6c7-30df-4103-f418-fa68df57187c"
      },
      "execution_count": null,
      "outputs": [
        {
          "output_type": "stream",
          "name": "stdout",
          "text": [
            "Audi\n",
            "Ford\n",
            "Audi\n",
            "Tesla\n",
            "Audi\n",
            "5000\n",
            "True\n"
          ]
        }
      ]
    },
    {
      "cell_type": "code",
      "source": [
        "mytuple=(\"Audi\",\"Ford\",\"Tesla\")#packing\n",
        "car1, car2, car3=mytuple#unpacking\n",
        "print(car1)\n",
        "print(car2)\n",
        "print(car3)"
      ],
      "metadata": {
        "colab": {
          "base_uri": "https://localhost:8080/"
        },
        "id": "x_QoQDJG6vYl",
        "outputId": "6be09064-76fa-4b9d-dbf7-9ecb1c23fdf5"
      },
      "execution_count": null,
      "outputs": [
        {
          "output_type": "stream",
          "name": "stdout",
          "text": [
            "Audi\n",
            "Ford\n",
            "Tesla\n"
          ]
        }
      ]
    },
    {
      "cell_type": "code",
      "source": [
        "myset={\"Audi\",\"Ford\",\"Audi\", \"Tesla\", \"Audi\", 5000, True}#set doesn't count repeating values\n",
        "print(myset)\n",
        "len(myset)"
      ],
      "metadata": {
        "colab": {
          "base_uri": "https://localhost:8080/"
        },
        "id": "1sVAOger7FWU",
        "outputId": "1d4d6af8-95c9-4008-f871-c4550a2c42bd"
      },
      "execution_count": null,
      "outputs": [
        {
          "output_type": "stream",
          "name": "stdout",
          "text": [
            "{True, 5000, 'Tesla', 'Audi', 'Ford'}\n"
          ]
        },
        {
          "output_type": "execute_result",
          "data": {
            "text/plain": [
              "5"
            ]
          },
          "metadata": {},
          "execution_count": 163
        }
      ]
    },
    {
      "cell_type": "code",
      "source": [
        "type(myset)"
      ],
      "metadata": {
        "colab": {
          "base_uri": "https://localhost:8080/"
        },
        "id": "HVbQy-IM7rB8",
        "outputId": "0ab32fe1-bcdd-4d16-9e9d-51f49f278d6d"
      },
      "execution_count": null,
      "outputs": [
        {
          "output_type": "execute_result",
          "data": {
            "text/plain": [
              "set"
            ]
          },
          "metadata": {},
          "execution_count": 164
        }
      ]
    },
    {
      "cell_type": "code",
      "source": [
        "myset={\"Audi\",\"Ford\", \"Tesla\", 5000, True}\n",
        "for i in myset:\n",
        "  print(i)"
      ],
      "metadata": {
        "colab": {
          "base_uri": "https://localhost:8080/"
        },
        "id": "Je5dI7H88DeU",
        "outputId": "c0a4affe-f1e9-49fe-aa84-b49097d33b64"
      },
      "execution_count": null,
      "outputs": [
        {
          "output_type": "stream",
          "name": "stdout",
          "text": [
            "True\n",
            "5000\n",
            "Tesla\n",
            "Audi\n",
            "Ford\n"
          ]
        }
      ]
    },
    {
      "cell_type": "code",
      "source": [
        "myset={\"Audi\",\"Ford\", \"Tesla\", 5000, True}\n",
        "myset.add(\"apples\")\n",
        "print(myset)"
      ],
      "metadata": {
        "colab": {
          "base_uri": "https://localhost:8080/"
        },
        "id": "xIXSYa168JX-",
        "outputId": "dd66b2e6-838b-4cae-b2e5-f08968b02ffe"
      },
      "execution_count": null,
      "outputs": [
        {
          "output_type": "stream",
          "name": "stdout",
          "text": [
            "{True, 5000, 'Tesla', 'Audi', 'Ford', 'apples'}\n"
          ]
        }
      ]
    },
    {
      "cell_type": "code",
      "source": [
        "myset={\"Audi\",\"Ford\", \"Tesla\", 5000, True}\n",
        "myset.pop()\n",
        "print(myset)"
      ],
      "metadata": {
        "colab": {
          "base_uri": "https://localhost:8080/"
        },
        "id": "6MJx65h08oPE",
        "outputId": "2d1e2ad9-f643-4d18-a3fd-56247dece194"
      },
      "execution_count": null,
      "outputs": [
        {
          "output_type": "stream",
          "name": "stdout",
          "text": [
            "{5000, 'Tesla', 'Audi', 'Ford'}\n"
          ]
        }
      ]
    },
    {
      "cell_type": "code",
      "source": [
        "myset1={3,4}\n",
        "myset2={1,2,3,4,5,6}\n",
        "myset1.union(myset2)"
      ],
      "metadata": {
        "colab": {
          "base_uri": "https://localhost:8080/"
        },
        "id": "4u_dE2Lq8zZN",
        "outputId": "2ff6e46a-7c12-4257-d5ba-2ccd8a8bc9bd"
      },
      "execution_count": null,
      "outputs": [
        {
          "output_type": "execute_result",
          "data": {
            "text/plain": [
              "{1, 2, 3, 4, 5, 6}"
            ]
          },
          "metadata": {},
          "execution_count": 169
        }
      ]
    },
    {
      "cell_type": "code",
      "source": [
        "myset1={3,4}\n",
        "myset2={1,2,3,4,5,6}\n",
        "myset1.intersection(myset2)"
      ],
      "metadata": {
        "colab": {
          "base_uri": "https://localhost:8080/"
        },
        "id": "buqs2FQH9JPl",
        "outputId": "8b71ae97-bef8-4612-f2f2-4df8b4bf6020"
      },
      "execution_count": null,
      "outputs": [
        {
          "output_type": "execute_result",
          "data": {
            "text/plain": [
              "{3, 4}"
            ]
          },
          "metadata": {},
          "execution_count": 170
        }
      ]
    },
    {
      "cell_type": "code",
      "source": [
        "myset1={3,4}\n",
        "myset2={1,2,3,4,5,6}\n",
        "myset1.issubset(myset2)"
      ],
      "metadata": {
        "colab": {
          "base_uri": "https://localhost:8080/"
        },
        "id": "1uSp4RhR9b4F",
        "outputId": "a6aa0ada-f086-44dc-c90a-da8bce4e1763"
      },
      "execution_count": null,
      "outputs": [
        {
          "output_type": "execute_result",
          "data": {
            "text/plain": [
              "True"
            ]
          },
          "metadata": {},
          "execution_count": 171
        }
      ]
    },
    {
      "cell_type": "code",
      "source": [
        "import numpy as np"
      ],
      "metadata": {
        "id": "JHxaP93o9e1U"
      },
      "execution_count": null,
      "outputs": []
    },
    {
      "cell_type": "code",
      "source": [
        "import pandas as pd"
      ],
      "metadata": {
        "id": "8bNDMa2e-1rN"
      },
      "execution_count": null,
      "outputs": []
    },
    {
      "cell_type": "code",
      "source": [
        "import matplotlib.pyplot as plt"
      ],
      "metadata": {
        "id": "bD8lJTnY-38N"
      },
      "execution_count": null,
      "outputs": []
    },
    {
      "cell_type": "code",
      "source": [
        "import seaborn as sns"
      ],
      "metadata": {
        "id": "ZQ94H2Et-_4l"
      },
      "execution_count": null,
      "outputs": []
    },
    {
      "cell_type": "code",
      "source": [
        "import math"
      ],
      "metadata": {
        "id": "dWFBHccr_P49"
      },
      "execution_count": null,
      "outputs": []
    },
    {
      "cell_type": "code",
      "source": [
        "import scipy"
      ],
      "metadata": {
        "id": "co-yXtV4_QwU"
      },
      "execution_count": null,
      "outputs": []
    },
    {
      "cell_type": "code",
      "source": [
        "import pyodc"
      ],
      "metadata": {
        "colab": {
          "base_uri": "https://localhost:8080/",
          "height": 320
        },
        "id": "5Xs3eNjc_RjN",
        "outputId": "8660c4ad-cd8e-4248-a457-0b1bbb6a8599"
      },
      "execution_count": null,
      "outputs": [
        {
          "output_type": "error",
          "ename": "ModuleNotFoundError",
          "evalue": "ignored",
          "traceback": [
            "\u001b[0;31m---------------------------------------------------------------------------\u001b[0m",
            "\u001b[0;31mModuleNotFoundError\u001b[0m                       Traceback (most recent call last)",
            "\u001b[0;32m<ipython-input-179-29e418d2c018>\u001b[0m in \u001b[0;36m<module>\u001b[0;34m\u001b[0m\n\u001b[0;32m----> 1\u001b[0;31m \u001b[0;32mimport\u001b[0m \u001b[0mpyodc\u001b[0m\u001b[0;34m\u001b[0m\u001b[0;34m\u001b[0m\u001b[0m\n\u001b[0m",
            "\u001b[0;31mModuleNotFoundError\u001b[0m: No module named 'pyodc'",
            "",
            "\u001b[0;31m---------------------------------------------------------------------------\u001b[0;32m\nNOTE: If your import is failing due to a missing package, you can\nmanually install dependencies using either !pip or !apt.\n\nTo view examples of installing some common dependencies, click the\n\"Open Examples\" button below.\n\u001b[0;31m---------------------------------------------------------------------------\u001b[0m\n"
          ],
          "errorDetails": {
            "actions": [
              {
                "action": "open_url",
                "actionText": "Open Examples",
                "url": "/notebooks/snippets/importing_libraries.ipynb"
              }
            ]
          }
        }
      ]
    },
    {
      "cell_type": "code",
      "source": [
        "!pip install pyodc\n",
        "import pyodc"
      ],
      "metadata": {
        "colab": {
          "base_uri": "https://localhost:8080/"
        },
        "id": "slsJ0r02_0u0",
        "outputId": "0b25ed40-22f5-4e4d-da7b-9399b40dc687"
      },
      "execution_count": null,
      "outputs": [
        {
          "output_type": "stream",
          "name": "stdout",
          "text": [
            "Looking in indexes: https://pypi.org/simple, https://us-python.pkg.dev/colab-wheels/public/simple/\n",
            "Collecting pyodc\n",
            "  Downloading pyodc-1.1.4.tar.gz (26 kB)\n",
            "  Installing build dependencies ... \u001b[?25l\u001b[?25hdone\n",
            "  Getting requirements to build wheel ... \u001b[?25l\u001b[?25hdone\n",
            "    Preparing wheel metadata ... \u001b[?25l\u001b[?25hdone\n",
            "Requirement already satisfied: pandas in /usr/local/lib/python3.7/dist-packages (from pyodc) (1.3.5)\n",
            "Requirement already satisfied: cffi in /usr/local/lib/python3.7/dist-packages (from pyodc) (1.15.1)\n",
            "Requirement already satisfied: pycparser in /usr/local/lib/python3.7/dist-packages (from cffi->pyodc) (2.21)\n",
            "Requirement already satisfied: pytz>=2017.3 in /usr/local/lib/python3.7/dist-packages (from pandas->pyodc) (2022.6)\n",
            "Requirement already satisfied: numpy>=1.17.3 in /usr/local/lib/python3.7/dist-packages (from pandas->pyodc) (1.21.6)\n",
            "Requirement already satisfied: python-dateutil>=2.7.3 in /usr/local/lib/python3.7/dist-packages (from pandas->pyodc) (2.8.2)\n",
            "Requirement already satisfied: six>=1.5 in /usr/local/lib/python3.7/dist-packages (from python-dateutil>=2.7.3->pandas->pyodc) (1.15.0)\n",
            "Building wheels for collected packages: pyodc\n",
            "  Building wheel for pyodc (PEP 517) ... \u001b[?25l\u001b[?25hdone\n",
            "  Created wheel for pyodc: filename=pyodc-1.1.4-py3-none-any.whl size=28062 sha256=c3a80a491299f24e866e6f724bb489b5e5bb421b4fb010c98e94e30cb661cd21\n",
            "  Stored in directory: /root/.cache/pip/wheels/cb/ea/82/e6d792d2557f2b621a829b888a93051f52894fb75b200bbb7c\n",
            "Successfully built pyodc\n",
            "Installing collected packages: pyodc\n",
            "Successfully installed pyodc-1.1.4\n"
          ]
        }
      ]
    }
  ]
}